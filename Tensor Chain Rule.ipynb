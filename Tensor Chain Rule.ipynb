{
 "cells": [
  {
   "cell_type": "code",
   "execution_count": null,
   "metadata": {},
   "outputs": [],
   "source": []
  },
  {
   "cell_type": "markdown",
   "metadata": {},
   "source": [
    "## Introduction\n",
    "\n",
    "Setting:\n",
    "$$\n",
    "\\def\\R{\\mathbb{R}}\n",
    "\\begin{aligned}\n",
    "x &: \\R^n\\\\\n",
    "g &: \\R^n \\rightarrow \\R^m\\\\\n",
    "f &: \\R^m \\rightarrow \\R\\\\\n",
    "\\end{aligned}\n",
    "$$\n",
    "\n",
    "Consider function composition:\n",
    "$$\n",
    "(f \\circ g)(x) = f(g(x))\n",
    "$$\n",
    "\n",
    "Ordinarily, we write the multivariable chain rule in matrix form:\n",
    "$$\n",
    "\\nabla (f \\circ g)(x)^T = \\nabla f(g(x))^T J_g(x)\n",
    "$$\n",
    "This is OK for first order, but how can we write a chain rule for the Hessian matrix $H_{f \\circ g}(x)$?\n",
    "In fact it isn't possible to do it with only matrices in closed form (i.e. without a summation over a dimension).\n",
    "\n",
    "\n",
    "## Chain rules in tensor form\n",
    "\n",
    "To express chain rules in tensor form,\n",
    "we'll need a map $D$ that differentiates a function by a covariant index:\n",
    "$$\n",
    "Df(u)_j = \\frac{\\partial f}{\\partial x_j}(u)\n",
    "$$\n",
    "For example, this is how $D$ relates to the gradient, Jacobian, and Hessian:\n",
    "$$\n",
    "Df(u)_j = \\nabla f(u)^T e_j\\\\\n",
    "Dg(x)^i_j = e_i^T J_g(x) e_j\\\\\n",
    "D^2f(u)_{j_1,j_2} = e_{j_1}^T H_f(u) e_{j_2}\\\\\n",
    "$$\n",
    "where $e_j$ is the $j$'th standard basis vector.\n",
    "\n",
    "Now we are ready to write out the chain rules.\n",
    "\n",
    "### First order multivariable chain rule, tensor form\n",
    "$$\n",
    "D(f \\circ g)(x)_j = Df(g(x))_k Dg(x)^k_j\n",
    "$$\n",
    "The Einstein summation convention sums over $k$.\n",
    "\n",
    "### Second order multivariable chain rule, tensor form\n",
    "$$\n",
    "D^2(f \\circ g)(x)_{j_1, j_2}\n",
    "  = D^2 f(g(x))_{k_1,k_2} Dg(x)^{k_1}_{j_1} Dg(x)^{k_2}_{j_2}\n",
    "  + Df(g(x))_k D^2g(x)^k_{j_1,j_2}\n",
    "$$\n",
    "The Einstein summation convention sums over $k_1,k_2$ in the first term and $k$ in the second term.\n",
    "\n",
    "\n",
    "## Matrices revisited\n",
    "\n",
    "It is however possible to write the second-order chain rule in matrix form if we allow one summation.\n",
    "$$\n",
    "H_{f \\circ g}(x) = J_g(x)^T H_f(g(x)) J_g(x) + \\sum_{k=1}^m \\nabla f(g(x))^T e_k H_{g_k}(x)\n",
    "$$\n",
    "where $e_k$ is the $k$'th standard basis vector, and $g_k(x)$ is the $k$'th component of $g(x)$."
   ]
  },
  {
   "cell_type": "code",
   "execution_count": null,
   "metadata": {},
   "outputs": [],
   "source": []
  }
 ],
 "metadata": {
  "kernelspec": {
   "display_name": "Python 3",
   "language": "python",
   "name": "python3"
  },
  "language_info": {
   "codemirror_mode": {
    "name": "ipython",
    "version": 3
   },
   "file_extension": ".py",
   "mimetype": "text/x-python",
   "name": "python",
   "nbconvert_exporter": "python",
   "pygments_lexer": "ipython3",
   "version": "3.7.6"
  }
 },
 "nbformat": 4,
 "nbformat_minor": 4
}
